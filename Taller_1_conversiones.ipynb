{
  "nbformat": 4,
  "nbformat_minor": 0,
  "metadata": {
    "colab": {
      "provenance": [],
      "authorship_tag": "ABX9TyO4IlizFzycBtFrBgwwGmXf",
      "include_colab_link": true
    },
    "kernelspec": {
      "name": "python3",
      "display_name": "Python 3"
    },
    "language_info": {
      "name": "python"
    }
  },
  "cells": [
    {
      "cell_type": "markdown",
      "metadata": {
        "id": "view-in-github",
        "colab_type": "text"
      },
      "source": [
        "<a href=\"https://colab.research.google.com/github/mystic23/SCAPI/blob/main/Taller_1_conversiones.ipynb\" target=\"_parent\"><img src=\"https://colab.research.google.com/assets/colab-badge.svg\" alt=\"Open In Colab\"/></a>"
      ]
    },
    {
      "cell_type": "markdown",
      "source": [
        "**CONSIDERACIONES**\n",
        "\n",
        "La mayoría de codigos que utilice en este jupiter notebook, fueron sacados de Chatgpt y otras paginas que me ayudarón en el desarrollo, en cada uno de los item declaré la referencía si era diferente a la de Chagpt"
      ],
      "metadata": {
        "id": "kUrYtYubzDLO"
      }
    },
    {
      "cell_type": "markdown",
      "source": [
        "Haga un algoritmo que dado un número decimal muestre el resultado en:\n",
        "\n",
        "· Binario\n",
        "\n",
        "· Octal\n",
        "\n",
        "· Hexadecimal\n",
        "\n",
        "· Base 36"
      ],
      "metadata": {
        "id": "3pn8tExVQJIe"
      }
    },
    {
      "cell_type": "code",
      "source": [
        "def decimal_a_binario(num):\n",
        "    \"\"\"\n",
        "    Convierte un número decimal a  binaria.\n",
        "    Aquí lo que hace el codigo es que a partir de una lista se almacenan los dijitos del numero, despues\n",
        "    convertirmos el numero a binario usando división sucesiva, con el \"%\" obtenemos el residuo del número por 2\n",
        "    despues con el .append lo que hacemos es agregar los residuos a la lista llamada \"binario\" y actualizamos el número\n",
        "    dividiendolo por 2, despues como los numeros son agregados a la lista de forma inversa, lo que hacemos es con el \".inverse()\"\n",
        "    es invertir la lista\n",
        "\n",
        "    Args:\n",
        "        num (int): El número decimal a convertir.\n",
        "\n",
        "    Return:\n",
        "        str: La representación binaria del número decimal.\n",
        "\n",
        "    Ej:\n",
        "       input: 25\n",
        "        output: '11001'\n",
        "    \"\"\"\n",
        "    binario = []  # Lista para almacenar los dígitos binarios del número\n",
        "\n",
        "    # Convertir el número decimal a binario mediante división sucesiva\n",
        "    while num > 0:\n",
        "        residuo = num % 2  # Obtener el residuo de dividir el número por 2\n",
        "        binario.append(residuo)  # Agregar el residuo a la lista de dígitos binarios\n",
        "        num = num // 2  # Actualizar el número dividiéndolo por 2\n",
        "\n",
        "    binario.reverse()  # Invertir el orden de los dígitos binarios\n",
        "    numero_binario = ''.join(map(str, binario))  # Convertir la lista en una cadena binaria\n",
        "\n",
        "    return numero_binario\n",
        "\n",
        "\n",
        "numero_decimal = int(input(\"Ingresa un número en decimal: \"))\n",
        "numero_binario = decimal_a_binario(numero_decimal)\n",
        "print(numero_binario)\n",
        "\n"
      ],
      "metadata": {
        "colab": {
          "base_uri": "https://localhost:8080/"
        },
        "id": "M4ovIfWKQLAM",
        "outputId": "768f95f0-475d-4504-cf74-6c088b8b98ed"
      },
      "execution_count": null,
      "outputs": [
        {
          "output_type": "stream",
          "name": "stdout",
          "text": [
            "Ingresa un número en decimal: 25\n",
            "11001\n"
          ]
        }
      ]
    },
    {
      "cell_type": "code",
      "source": [
        "def decimal_a_octal(num):\n",
        "    \"\"\"\n",
        "    Convierte un número decimal a  octal.\n",
        "\n",
        "    Este algoritmo utiliza la division sucesiva, en donde se obtiene el residuo del número decimal por 8 y se agrega a una lista llamada \"octal\",\n",
        "    luego se actualiza el número dividiéndolo entre 8, se agregan los residuos a la lsita y como esta al reves, pues se usa el .revers\n",
        "     para obtener el número octal y este se convierte a cadena.\n",
        "\n",
        "    Args:\n",
        "        num (int): El número decimal a convertir.\n",
        "\n",
        "    Return:\n",
        "        str: La representación octal del número decimal.\n",
        "\n",
        "    Ejemplos:\n",
        "        input: 25\n",
        "        output: '31'\n",
        "    \"\"\"\n",
        "    octal = []\n",
        "\n",
        "    while num > 0:\n",
        "        residuo = num % 8\n",
        "        octal.append(residuo)\n",
        "        num = num // 8\n",
        "\n",
        "    octal.reverse()\n",
        "    numero_octal = ''.join(map(str, octal))\n",
        "\n",
        "    return numero_octal\n",
        "\n",
        "numero_decimal = int(input(\"Ingresa un número en decimal: \"))\n",
        "numero_octal = decimal_a_octal(numero_decimal)\n",
        "print(numero_octal)\n"
      ],
      "metadata": {
        "colab": {
          "base_uri": "https://localhost:8080/"
        },
        "id": "hpEDnEvhQZ4F",
        "outputId": "f9fe9523-3da7-419e-d737-3e16e8fda062"
      },
      "execution_count": null,
      "outputs": [
        {
          "output_type": "stream",
          "name": "stdout",
          "text": [
            "Ingresa un número en decimal: 25\n",
            "31\n"
          ]
        }
      ]
    },
    {
      "cell_type": "code",
      "source": [
        "def decimal_a_hexadecimal(num):\n",
        "    \"\"\"\n",
        "    Convierte un número decimal a  hexadecimal.\n",
        "    Este algoritmo usa division sucesiva, se crea una lista y un diccionario en donde se almacenan las equivalencias correspondientes\n",
        "    despues se obtiene el residuo del número decimal por 16, y si el residuo es mayor o igual a 10, se asigna\n",
        "    la correspondiente letra hexadecimal según el diccionairo designado anteriormente, luego se agrega el residuo a una lista llamada \"hexadecimal\" y se\n",
        "     actualiza el número dividiéndolo entre 16, al final se invierte la lista de residuos para obtener el número hexadecimal y se convierte a cadena.\n",
        "\n",
        "    Args:\n",
        "        num (int): El número decimal a convertir.\n",
        "\n",
        "    Return:\n",
        "        str: La representación hexadecimal del número decimal.\n",
        "\n",
        "    Examples:\n",
        "        input: 25\n",
        "        output: '19'\n",
        "    \"\"\"\n",
        "    hexadecimal = []\n",
        "    diccionario_hex = {10: 'A', 11: 'B', 12: 'C', 13: 'D', 14: 'E', 15: 'F'}\n",
        "\n",
        "    while num > 0:\n",
        "        residuo = num % 16\n",
        "        if residuo >= 10:\n",
        "            residuo = diccionario_hex[residuo]\n",
        "        hexadecimal.append(residuo)\n",
        "        num = num // 16\n",
        "\n",
        "    hexadecimal.reverse()\n",
        "    numero_hexadecimal = ''.join(map(str, hexadecimal))\n",
        "\n",
        "    return numero_hexadecimal\n",
        "\n",
        "numero_decimal = int(input(\"Ingresa un número en decimal: \"))\n",
        "numero_hexadecimal = decimal_a_hexadecimal(numero_decimal)\n",
        "print(numero_hexadecimal)\n"
      ],
      "metadata": {
        "colab": {
          "base_uri": "https://localhost:8080/"
        },
        "id": "IL_uZgHyQs1F",
        "outputId": "026923cd-556b-45f0-d485-8b8ca327d8ea"
      },
      "execution_count": null,
      "outputs": [
        {
          "output_type": "stream",
          "name": "stdout",
          "text": [
            "Ingresa un número en decimal: 25\n",
            "19\n"
          ]
        }
      ]
    },
    {
      "cell_type": "code",
      "source": [
        "def decimal_a_base36(num):\n",
        "    \"\"\"\n",
        "    Convierte un número decimal a base 36.\n",
        "\n",
        "    Este algoritmo usa la división sucesiva.\n",
        "    Se obtiene el residuo del número decimal por 36 y se asigna un dígito base 36 según el residuo, entonces, si el residuo es mayor o igual a\n",
        "    10, se asigna la correspondiente letra base 36 según el diccionario que anteriormente designamos., despues se actualiza la lista agregandolos esta \"base_36\"\n",
        "    Aqui, el número decimal se actualiza dividiéndolo entre 36 y se invierte la lista de residuos y se convierte en una cadena para obtener la representación en base 36.\n",
        "\n",
        "    Args:\n",
        "        num (int): El número decimal a convertir.\n",
        "\n",
        "    Returns:\n",
        "        str: La representación en base 36 del número decimal.\n",
        "\n",
        "    Examples:\n",
        "        input: 25\n",
        "        output: 'p'\n",
        "        input:4567\n",
        "        output:'3IV'\n",
        "    \"\"\"\n",
        "    base_36 = []\n",
        "    diccionario_base36 = {i: str(i) for i in range(10)} ##Aqui se crea un diccionario que indica los numeros del 0 al 9 a sí mismos, representados como cadenas de caracteres\n",
        "    diccionario_base36.update({i: chr(i + 55) for i in range(10, 36)})\n",
        "    # actualiza los datos del diccionario indicando los caracteres que corresponden del 10 al 35\n",
        "\n",
        "    while num > 0:\n",
        "        residuo = num % 36\n",
        "        if residuo >= 10:\n",
        "            residuo = diccionario_base36[residuo]\n",
        "        base_36.append(residuo)\n",
        "        num = num // 36\n",
        "\n",
        "    base_36.reverse()\n",
        "    numero_base36 = ''.join(map(str, base_36))\n",
        "\n",
        "    return numero_base36\n",
        "\n",
        "numero_decimal = int(input(\"Ingresa un número en decimal : \"))\n",
        "numero_base36 = decimal_a_base36(numero_decimal)\n",
        "print(numero_base36)  # Entrada 4567Salida: 3iv\n"
      ],
      "metadata": {
        "colab": {
          "base_uri": "https://localhost:8080/"
        },
        "id": "U6O-43DURUwM",
        "outputId": "bd027ab7-cd47-4392-ed45-2407b9d6a6d9"
      },
      "execution_count": null,
      "outputs": [
        {
          "output_type": "stream",
          "name": "stdout",
          "text": [
            "Ingresa un número en decimal : 4567\n",
            "3IV\n"
          ]
        }
      ]
    },
    {
      "cell_type": "markdown",
      "source": [
        "Haga un algoritmo que dado un número Octal muestre el resultado en:\n",
        "\n",
        "· Binario\n",
        "\n",
        "· Decimal\n",
        "\n",
        "· Hexadecimal\n",
        "\n",
        "· Base 36"
      ],
      "metadata": {
        "id": "LntFmGWTRYCU"
      }
    },
    {
      "cell_type": "code",
      "source": [
        "def octal_a_binario(num):\n",
        "    \"\"\"\n",
        "    Convierte un número octal a  binario.\n",
        "    al principio este itera sobre cada dígito del número octal y convierte cada dígito en  binaria, despues haciendo uso de la\n",
        "    división sucesiva se obtienen los residuios binarios y se designa el número binario temporal, despúes, se agrega el número binario temporal al número binario resultante,\n",
        "    y el condicional que usamos en el if es para que cuando el numero tenga  menos de 3 digitos a este se le agreguen ceros a la izquirda.\n",
        "\n",
        "    Args:\n",
        "        num (str): El número octal a convertir representado como cadena de caracteres.\n",
        "\n",
        "    Returns:\n",
        "        str: La representación en binario del número octal.\n",
        "\n",
        "    Examples:\n",
        "        input: \"27\"\n",
        "        output:'010111'\n",
        "       input: \"777\"\n",
        "        output: '111111111'\n",
        "    \"\"\"\n",
        "    binario = \"\"\n",
        "\n",
        "    for digit in num:\n",
        "        temp_binario = \"\"\n",
        "        digit = int(digit)\n",
        "\n",
        "        while digit > 0:\n",
        "            residuo = digit % 2\n",
        "            temp_binario = str(residuo) + temp_binario\n",
        "            digit = digit // 2\n",
        "\n",
        "        if len(temp_binario) < 3:\n",
        "            temp_binario = \"0\" * (3 - len(temp_binario)) + temp_binario\n",
        "\n",
        "        binario += temp_binario\n",
        "\n",
        "    return binario\n",
        "\n",
        "numero_octal = str(input(\"Ingresa un número en octal : \"))\n",
        "numero_binario = octal_a_binario(numero_octal)\n",
        "print(numero_binario)  # Entrada 27 Salida: 010111\n"
      ],
      "metadata": {
        "colab": {
          "base_uri": "https://localhost:8080/"
        },
        "id": "P8zrI41QRZGd",
        "outputId": "c6822429-38b2-4dbc-e7ab-9ce21734abba"
      },
      "execution_count": null,
      "outputs": [
        {
          "output_type": "stream",
          "name": "stdout",
          "text": [
            "Ingresa un número en octal : 27\n",
            "010111\n"
          ]
        }
      ]
    },
    {
      "cell_type": "code",
      "source": [
        "def octal_a_decimal(num):\n",
        "    \"\"\"\n",
        "      Convierte un número octal a su representación decimal.\n",
        "\n",
        "      Este algoritmo realiza una conversión utilizando la posición de los dígitos, en donde itera sobre cada dígito del número octal en orden inverso\n",
        "      y para cada dígito, se multiplica por la potencia de 8 correspondiente a su posición, entonces, se acumulan los productos en la variable decimal,\n",
        "      dentro del for, buscamos con la potencia incrementar el valor de cada iteracion para asi poder reflejar la posición del dígito en el número octal.\n",
        "\n",
        "      Args:\n",
        "          num (str): El número octal a convertir representado como cadena de caracteres.\n",
        "\n",
        "      Returns:\n",
        "          int: La representación decimal del número octal.\n",
        "\n",
        "      Examples:\n",
        "          input: \"27\"\n",
        "          output:23\n",
        "          input: \"777\"\n",
        "          output : 511\n",
        "    \"\"\"\n",
        "    decimal = 0\n",
        "    potencia = 0\n",
        "\n",
        "    for digit in reversed(num):\n",
        "        decimal += int(digit) * (8 ** potencia)\n",
        "        potencia += 1\n",
        "\n",
        "    return decimal\n",
        "\n",
        "\n",
        "numero_octal = str(input(\"Ingresa un número en octal : \"))\n",
        "numero_decimal = octal_a_decimal(numero_octal)\n",
        "print(numero_decimal)  # Entrada 27 Salida: 23\n"
      ],
      "metadata": {
        "colab": {
          "base_uri": "https://localhost:8080/"
        },
        "id": "McQJ-TkJRpeM",
        "outputId": "41572dfa-6843-44b9-f8e2-755492e50b03"
      },
      "execution_count": null,
      "outputs": [
        {
          "output_type": "stream",
          "name": "stdout",
          "text": [
            "Ingresa un número en octal : 777\n",
            "511\n"
          ]
        }
      ]
    },
    {
      "cell_type": "code",
      "source": [
        "#Referencia: Este codigo fue sacado de la siguiente pagina web\n",
        "##https://codescracker.com/python/program/python-program-convert-octal-to-decimal.htm\n",
        "print(\"Ingresa un numero octal \")\n",
        "octnum = int(input())\n",
        "\n",
        "chk = 0\n",
        "i = 0\n",
        "decnum = 0\n",
        "while octnum!=0:\n",
        "    rem = octnum%10\n",
        "    if rem>7:\n",
        "        chk = 1\n",
        "        break\n",
        "    decnum = decnum + (rem * (8 ** i))\n",
        "    i = i+1\n",
        "    octnum = int(octnum/10)\n",
        "\n",
        "if chk == 0:\n",
        "    i = 0\n",
        "    hexdecnum = []\n",
        "    while decnum != 0:\n",
        "        rem = decnum % 16\n",
        "        if rem < 10:\n",
        "            rem = rem + 48\n",
        "        else:\n",
        "            rem = rem + 55\n",
        "        rem = chr(rem)\n",
        "        hexdecnum.insert(i, rem)\n",
        "        i = i + 1\n",
        "        decnum = int(decnum / 16)\n",
        "\n",
        "    print(\"El valor en hexadeimal es: \")\n",
        "    i = i - 1\n",
        "    while i >= 0:\n",
        "        print(end=hexdecnum[i])\n",
        "        i = i - 1\n",
        "    print()\n",
        "\n",
        "else:\n",
        "    print(\"\\nInvalid Input!\")\n",
        "\n",
        "##input : 777\n",
        "##Output: 1FF\n"
      ],
      "metadata": {
        "colab": {
          "base_uri": "https://localhost:8080/"
        },
        "id": "NTiVYTeQXbc4",
        "outputId": "19afbb9c-00f2-4b40-9559-93b8dbf319cb"
      },
      "execution_count": null,
      "outputs": [
        {
          "output_type": "stream",
          "name": "stdout",
          "text": [
            "Ingresa un numero octal \n",
            "777\n",
            "El valor en hexadeimal es: \n",
            "1FF\n"
          ]
        }
      ]
    },
    {
      "cell_type": "code",
      "source": [
        "def octal_a_base36(num):\n",
        "    \"\"\"\n",
        "    Convierte un número octal a base 36.\n",
        "\n",
        "   Esta función toma un número en formato octal y lo convierte a su equivalente en base 36\n",
        "    Utiliza un diccionario para asignar los dígitos del 0 al 9 y las letras de A a Z para representar los valores del sistema base 36,\n",
        "    usamos división sucesiva y se obtiene el residuo de dividir por 36, se agrega el numero y se actualiza y utilizamos el \"//\" para la division entera\n",
        "    que es para continuar con el siguiente numero.\n",
        "\n",
        "\n",
        "    Args:\n",
        "        num (int): El número octal a convertir a base36\n",
        "\n",
        "    Returns:\n",
        "        str: La representación en base 36 del número octal\n",
        "\n",
        "    Examples:\n",
        "        input: 777\n",
        "        output: E7\n",
        "\n",
        "    \"\"\"\n",
        "    base36 = \"\"\n",
        "    diccionario_base36 = {i: str(i) for i in range(10)} ##Aqui se crea un diccionario que indica los numeros del 0 al 9 a sí mismos, representados como cadenas de caracteres\n",
        "    diccionario_base36.update({i: chr(i + 55) for i in range(10, 36)})\n",
        "    # actualiza los datos del diccionario indicando los caracteres que corresponden del 10 al 35\n",
        "\n",
        "    decimal = int(num, 8)\n",
        "\n",
        "    while decimal > 0:\n",
        "        residuo = decimal % 36\n",
        "        base36 = diccionario_base36[residuo] + base36\n",
        "        decimal = decimal // 36\n",
        "\n",
        "    return base36\n",
        "\n",
        "\n",
        "numero_octal = input(\"Ingresa un número en octal: \")\n",
        "numero_base36 = octal_a_base36(numero_octal)\n",
        "print(numero_base36)\n",
        "#Entrada 777 Salida E7\n"
      ],
      "metadata": {
        "colab": {
          "base_uri": "https://localhost:8080/"
        },
        "id": "p0lFtV6UlRDg",
        "outputId": "1e340f05-ace1-48a0-94dc-2c1583861da6"
      },
      "execution_count": null,
      "outputs": [
        {
          "output_type": "stream",
          "name": "stdout",
          "text": [
            "Ingresa un número en octal: 777\n",
            "E7\n"
          ]
        }
      ]
    },
    {
      "cell_type": "markdown",
      "source": [
        "Haga un algoritmo que dado un número Hexadecimal muestre el resultado en:\n",
        "\n",
        "· Binario\n",
        "\n",
        "· Decimal\n",
        "\n",
        "· Octal\n",
        "\n",
        "· Base 36\n"
      ],
      "metadata": {
        "id": "L8qSEsjp2tEt"
      }
    },
    {
      "cell_type": "code",
      "source": [
        "def hexadecimal_a_binario(num):\n",
        "    \"\"\"\n",
        "    bueno al principio cuando usamos el int(num, 16) lo que hacemos es convertir el valor de entrada\n",
        "    que en si es una cadena representada en su hexadecimal, ya que especificamos que queremos\n",
        "    que sea de base 16, seguidamente usamos la función \"bin()\", la que hace que podamos\n",
        "    convertir el número decimal en una cadena binaria, despúes, usamos el metodo\n",
        "    Istrip('0'),para eliminar los ceros iniciales, es decir, busca el primer caracter diferente\n",
        "    de 0 ( 1) y elimina los 0 que esten a su izquierda y al final ya solo lo imprime en su binario\n",
        "\n",
        "    Args:\n",
        "        num (str): El número hexadecimal a convertir.\n",
        "\n",
        "    Returns:\n",
        "        str: El número en formato binario, sin ceros a la izquierda.\n",
        "\n",
        "    Examples:\n",
        "        input : '20f'\n",
        "        output: '1000001111'\n",
        "    \"\"\"\n",
        "    decimal = int(num, 16)\n",
        "    binario = bin(decimal)[2:]\n",
        "    binario_sin_ceros = binario.lstrip('0')\n",
        "    return binario_sin_ceros\n",
        "\n",
        "\n",
        "numero_hexadecimal = input(\"Ingresa un número hexadecimal: \")\n",
        "numero_binario = hexadecimal_a_binario(numero_hexadecimal)\n",
        "print(\"El número en binario es:\", numero_binario)\n",
        "#Entrada 20f Salida 1000001111\n"
      ],
      "metadata": {
        "colab": {
          "base_uri": "https://localhost:8080/"
        },
        "id": "9hMvTs9c2uF0",
        "outputId": "cab5035c-86d9-4f4d-caf1-0c41ab8a4827"
      },
      "execution_count": null,
      "outputs": [
        {
          "output_type": "stream",
          "name": "stdout",
          "text": [
            "Ingresa un número hexadecimal: 20f\n",
            "El número en binario es: 1000001111\n"
          ]
        }
      ]
    },
    {
      "cell_type": "code",
      "source": [
        "def hexadecimal_a_decimal(num):\n",
        "    \"\"\"\n",
        "    Convierte un número hexadecimal en decimal.\n",
        "    Lo que se hace aqui es que la funcion recibe un numero hexadecimal designado como\n",
        "    una cadena \"num\", en el bloque try utilizamos la función int(num,16) para covnertir el numero\n",
        "    hexadecimal a decimal ya que esta toma dos argumentos, el valor a convertir y la base\n",
        "    en la que este se encuentra, si el valor es valido pues se le es asignado un valor a \"decimal\"\n",
        "    de lo contrario se aplica la excepcion,\n",
        "\n",
        "    Reference:\n",
        "      https://docs.python.org/3/library/functions.html#int\n",
        "    Args:\n",
        "        num (str): El número hexadecimal a convertir.\n",
        "\n",
        "    Returns:\n",
        "        int: El número convertido a decimal.\n",
        "        None: Si la entrada no es válida.\n",
        "    Example:\n",
        "        input 34565FDD\n",
        "        output 878075869\n",
        "    \"\"\"\n",
        "    try:\n",
        "        decimal = int(num, 16)\n",
        "        return decimal\n",
        "    except ValueError:\n",
        "        print(\"Error: Entrada no válida. Ingresa un número hexadecimal válido.\")\n",
        "        return None\n",
        "\n",
        "# Ejemplo de uso\n",
        "numero_hexadecimal = input(\"Ingresa un número hexadecimal: \")\n",
        "numero_decimal = hexadecimal_a_decimal(numero_hexadecimal)\n",
        "\n",
        "if numero_decimal is not None:\n",
        "    print(\"El número en decimal es:\", numero_decimal)\n",
        "#Entrada 34565FDD Salida  878075869"
      ],
      "metadata": {
        "colab": {
          "base_uri": "https://localhost:8080/"
        },
        "id": "79ehFQEP66wR",
        "outputId": "4c1cd596-5bdd-46d6-bd4f-b2ce7c689f4c"
      },
      "execution_count": null,
      "outputs": [
        {
          "output_type": "stream",
          "name": "stdout",
          "text": [
            "Ingresa un número hexadecimal: 34565FDD\n",
            "El número en decimal es: 878075869\n"
          ]
        }
      ]
    },
    {
      "cell_type": "code",
      "source": [
        "def hexadecimal_a_octal(hexadecimal):\n",
        "    \"\"\"\n",
        "    Convierte un número hexadecimal en octal.\n",
        "    la funcion recibe unna cadena de texto valida  y gracias a la documentacion que mencione anteriormente\n",
        "    usando el int(x, base), podemos convertirlo directamente.\n",
        "\n",
        "    Args:\n",
        "        hexadecimal (str): El número hexadecimal a convertir.\n",
        "\n",
        "    Returns:\n",
        "        str: El número convertido a octal.\n",
        "\n",
        "    Examples:\n",
        "      input 7BD\n",
        "      output 3675\n",
        "    \"\"\"\n",
        "    decimal = int(hexadecimal, 16)\n",
        "    octal = format(decimal, 'o')  # Convertir el número decimal a octal utilizando 'o' en el formato\n",
        "    return octal\n",
        "\n",
        "\n",
        "\n",
        "numero_hexadecimal = input(\"Ingresa un número hexadecimal: \")\n",
        "resultado_octal = hexadecimal_a_octal(numero_hexadecimal)\n",
        "print(\"El número octal equivalente es:\", resultado_octal)\n",
        "\n",
        "#Entrada 7BD Saldida 3675"
      ],
      "metadata": {
        "colab": {
          "base_uri": "https://localhost:8080/"
        },
        "id": "wP61YdzK_H1n",
        "outputId": "ac5b6070-0ba1-40fd-e14d-b9ee548219ba"
      },
      "execution_count": null,
      "outputs": [
        {
          "output_type": "stream",
          "name": "stdout",
          "text": [
            "Ingresa un número hexadecimal: 7BD\n",
            "El número octal equivalente es: 3675\n"
          ]
        }
      ]
    },
    {
      "cell_type": "code",
      "source": [
        "def hex_to_base36(hex_num):\n",
        "    \"\"\"\n",
        "    Convierte un número hexadecimal en base36.\n",
        "    En este algoritmo utilizamos el mismo sistema que en los anteriores el que es int(x, base), que nos convierte\n",
        "    directamente el número de hexadecimal a decimal, despues tenemos una variable que almacena\n",
        "    los caracteres que se usan en base 36, es como la representaicon de cada valor, despues el mientras que\n",
        "    lo utilizamos cuando el numero sea myor a o y utilizamos el divmod() el cual es metodo que toma\n",
        "    dos numeros como argumentos, viene siento como un numerador y un demoninador o el cociente y el residuo, en nuestro caso es dividir\n",
        "    el decimal_num entre 36, y lo que retorna este metodo al final es una tupla\n",
        "    que contiene cociente que se almacena en el decimal_num y el resto de la división que se almacena en el\n",
        "    remainder y ya cuando termina ese condicional retorna el numero convertido en base36.\n",
        "\n",
        "    Documentation:\n",
        "        https://www.programiz.com/python-programming/methods/built-in/divmod\n",
        "\n",
        "    Args:\n",
        "        hex_num (str): El número hexadecimal a convertir.\n",
        "\n",
        "    Returns:\n",
        "        str: El número convertido a base36.\n",
        "\n",
        "    Examples:\n",
        "        input:  3FFFA\n",
        "        output: 5m9m\n",
        "    \"\"\"\n",
        "    decimal_num = int(hex_num, 16)  # Convertir a decimal\n",
        "    base36_chars = \"0123456789abcdefghijklmnopqrstuvwxyz\"\n",
        "    base36_num = \"\"\n",
        "\n",
        "    while decimal_num > 0:\n",
        "        decimal_num, remainder = divmod(decimal_num, 36)\n",
        "        base36_num = base36_chars[remainder] + base36_num\n",
        "\n",
        "    return base36_num\n",
        "\n",
        "\n",
        "hex_num = input(\"Ingresa un número hexadecimal: \")\n",
        "base36_num = hex_to_base36(hex_num)\n",
        "print(base36_num)\n"
      ],
      "metadata": {
        "colab": {
          "base_uri": "https://localhost:8080/"
        },
        "id": "yshtpvHF7aaz",
        "outputId": "3ad90982-b42b-4f28-d6f7-43446190b892"
      },
      "execution_count": null,
      "outputs": [
        {
          "output_type": "stream",
          "name": "stdout",
          "text": [
            "Ingresa un número hexadecimal: 3FFFA\n",
            "5m9m\n"
          ]
        }
      ]
    },
    {
      "cell_type": "markdown",
      "source": [
        "5. Haga un algoritmo que dada la siguiente cadena: “CRISTO” contenida en un Sistema de base 36 muestre el resultado en:\n",
        "\n",
        "· Hexadecimal\n",
        "\n",
        "· Decimal\n",
        "\n",
        "· Octal\n",
        "\n",
        "· Binario\n"
      ],
      "metadata": {
        "id": "21QhGE4bZ-CT"
      }
    },
    {
      "cell_type": "code",
      "source": [
        "#Convertir la palabra \"CRISTO\" de base 36 a hexadecimal\n",
        "cadena = \"CRISTO\"\n",
        "\"\"\"\n",
        "Lo que hacemos es definir la cadena que queremos convertir la cual es \"CRISTO\", seguidamente\n",
        "tenemos la funcion \"def convertir_base36_a_decimal(digito):\" y aqui se convierte el valor\n",
        "en su valor a decimal, seguidamente usamos isdigit(), esto no lanza ningun argumento\n",
        "solo dice si es verdadero o falso y si este es un digito de 0 a 9 entonces con el int(digito)\n",
        "lo convierte directamente a un decimal y bueno si este no es totalmente un caracter numerico, entonces\n",
        "lo que se hace es que usamos la funcion ord() lo que hace es\n",
        "retornar el valor entero representado en unicode de la variable digito, al sumarle A y restarle 10, se obtendria\n",
        "el valor decimal correspondiate a la letra en base36 por lo tanto habria equivalencia como dijimos en los\n",
        "comentarios anteriores que A-Z se convierten entre 10-35.\n",
        "Seguidamente tenemos la función \"def convertir_a_hexadecimal(numero):\", aqui  El código toma un número en\n",
        "base36 y lo convierte a su representación hexadecimal. Primero, se convierten\n",
        "los dígitos de base36 a decimal utilizando la función convertir_base36_a_decimal.\n",
        "Luego, se calcula el número decimal sumando los valores de los dígitos multiplicados\n",
        "por la potencia correspondiente, despues, se utiliza la función\n",
        "convertir_a_hexadecimal para convertir el número decimal a su representación\n",
        "hexadecimal, se utilizan las  operaciones de división y residuo para obtener los\n",
        "dígitos hexadecimales y se construye la cadena resultado.\n",
        "\n",
        "Documentation:\n",
        "https://www.programiz.com/python-programming/methods/string/isdigit\n",
        "https://www.programiz.com/python-programming/methods/built-in/ord\n",
        "\n",
        "\"\"\"\n",
        "def convertir_base36_a_decimal(digito):\n",
        "    if digito.isdigit():\n",
        "        return int(digito)\n",
        "    else:\n",
        "        return ord(digito) - ord('A') + 10\n",
        "\n",
        "def convertir_a_hexadecimal(numero):\n",
        "    if numero == 0:\n",
        "        return '0'\n",
        "\n",
        "    resultado = ''\n",
        "    while numero > 0:\n",
        "        residuo = numero % 16\n",
        "        if residuo < 10:\n",
        "            resultado = str(residuo) + resultado\n",
        "        else:\n",
        "            resultado = chr(ord('A') + residuo - 10) + resultado\n",
        "        numero //= 16\n",
        "\n",
        "    return resultado\n",
        "\n",
        "numero_decimal = 0\n",
        "potencia = len(cadena) - 1\n",
        "for digito in cadena:\n",
        "    valor_digito = convertir_base36_a_decimal(digito)\n",
        "    numero_decimal += valor_digito * (36 ** potencia)\n",
        "    potencia -= 1\n",
        "\n",
        "\n",
        "numero_hexadecimal = convertir_a_hexadecimal(numero_decimal)\n",
        "\n",
        "print(\"Cadena en hexadecimal:\", numero_hexadecimal)"
      ],
      "metadata": {
        "colab": {
          "base_uri": "https://localhost:8080/"
        },
        "id": "JIaBjOj_kFGG",
        "outputId": "aa52652f-7dad-4664-c330-8b270d71367e"
      },
      "execution_count": null,
      "outputs": [
        {
          "output_type": "stream",
          "name": "stdout",
          "text": [
            "Cadena en hexadecimal: 2E010D6C\n"
          ]
        }
      ]
    },
    {
      "cell_type": "code",
      "source": [
        "#Convertir la palabra \"CRISTO\" de base 36 a binario\n",
        "cadena = \"CRISTO\"\n",
        "\n",
        "# Convertir la cadena a base 36\n",
        "numero_base36 = int(cadena, 36)\n",
        "\n",
        "# Obtener la representación binaria\n",
        "binario = bin(numero_base36)[2:]  # Se omite el prefijo '0b'\n",
        "\n",
        "# Imprimir el resultado en binario\n",
        "print(\"Cadena en binario:\", binario)\n"
      ],
      "metadata": {
        "colab": {
          "base_uri": "https://localhost:8080/"
        },
        "id": "XRRPwDZgaA0b",
        "outputId": "27d07a28-ef3a-4d28-f5e9-767f1c833c73"
      },
      "execution_count": null,
      "outputs": [
        {
          "output_type": "stream",
          "name": "stdout",
          "text": [
            "Cadena en binario: 101110000000010000110101101100\n"
          ]
        }
      ]
    },
    {
      "cell_type": "code",
      "source": [
        "#Convertir la palabra \"CRISTO\" de base 36 a Decimal\n",
        "cadena = \"CRISTO\"\n",
        "\"\"\"\n",
        "Aqui mencionamos lo mismo para la funcion \"convertir_base36_a_decimal\" como dijimos\n",
        "al convertir a base36, luego, se multiplica ese valor por la potencia correspondiente\n",
        "a su posición en la cadena y se suma al número decimal acumulado. Al finalizar\n",
        "el ciclo, se obtiene el número decimal completo.\n",
        "\n",
        "\"\"\"\n",
        "# Definir una función para convertir un dígito en base 36 a decimal\n",
        "def convertir_base36_a_decimal(digito):\n",
        "    if digito.isdigit():\n",
        "        return int(digito)\n",
        "    else:\n",
        "        return ord(digito) - ord('A') + 10\n",
        "\n",
        "# Convertir la cadena a decimal\n",
        "numero_decimal = 0\n",
        "potencia = len(cadena) - 1\n",
        "for digito in cadena:\n",
        "    valor_digito = convertir_base36_a_decimal(digito)\n",
        "    numero_decimal += valor_digito * (36 ** potencia)\n",
        "    potencia -= 1\n",
        "\n",
        "print(\"Cadena en decimal:\", numero_decimal)\n"
      ],
      "metadata": {
        "colab": {
          "base_uri": "https://localhost:8080/"
        },
        "id": "h1tA17-HalJj",
        "outputId": "80d1c69b-fc4d-4e10-96ff-1d5cdb6ac52d"
      },
      "execution_count": null,
      "outputs": [
        {
          "output_type": "stream",
          "name": "stdout",
          "text": [
            "Cadena en decimal: 771820908\n"
          ]
        }
      ]
    },
    {
      "cell_type": "code",
      "source": [
        "#Convertir la palabra \"CRISTO\" de base 36 a octal\n",
        "cadena = \"CRISTO\"\n",
        "\n",
        "\"\"\"\n",
        "Aqui mencionamos lo mismo para la funcion \"convertir_base36_a_decimal\" como dijimos\n",
        "al convertir a base36, luego, usamos la funcion de \"convertir_a_octal\" que\n",
        "convierte un número decimal en base 10 a su representación en octal. El código\n",
        "utiliza una estructura de repetición while para dividir el número sucesivamente\n",
        "por 8 y obtener los residuos, que se van concatenando en una cadena de caracteres\n",
        "resultado, despúes, convierte una cadena en base36 a su equivalente decimal,\n",
        "multiplicando cada dígito por la potencia adecuada de 36 y acumulando\n",
        "los resultados en numero_decimal.\n",
        "\n",
        "\"\"\"\n",
        "\n",
        "# Definir una función para convertir un dígito en base 36 a decimal\n",
        "def convertir_base36_a_decimal(digito):\n",
        "    if digito.isdigit():\n",
        "        return int(digito)\n",
        "    else:\n",
        "        return ord(digito) - ord('A') + 10\n",
        "\n",
        "# Definir una función para convertir un número en base 10 a octal\n",
        "def convertir_a_octal(numero):\n",
        "    if numero == 0:\n",
        "        return '0'\n",
        "\n",
        "    resultado = ''\n",
        "    while numero > 0:\n",
        "        residuo = numero % 8\n",
        "        resultado = str(residuo) + resultado\n",
        "        numero //= 8\n",
        "\n",
        "    return resultado\n",
        "\n",
        "numero_decimal = 0\n",
        "potencia = len(cadena) - 1\n",
        "for digito in cadena:\n",
        "    valor_digito = convertir_base36_a_decimal(digito)\n",
        "    numero_decimal += valor_digito * (36 ** potencia)\n",
        "    potencia -= 1\n",
        "\n",
        "numero_octal = convertir_a_octal(numero_decimal)\n",
        "print(\"Cadena en octal:\", numero_octal)\n"
      ],
      "metadata": {
        "colab": {
          "base_uri": "https://localhost:8080/"
        },
        "id": "niyBzj3ncZyR",
        "outputId": "eb0699c9-a7da-4ba4-cf60-5b9be8b09f3c"
      },
      "execution_count": null,
      "outputs": [
        {
          "output_type": "stream",
          "name": "stdout",
          "text": [
            "Cadena en octal: 5600206554\n"
          ]
        }
      ]
    }
  ]
}